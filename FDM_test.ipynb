{
 "cells": [
  {
   "cell_type": "code",
   "execution_count": null,
   "metadata": {},
   "outputs": [],
   "source": [
    "from datetime import datetime\n",
    "from datetime import timedelta\n",
    "\n",
    "from pymongo import MongoClient\n",
    "from pandas import DataFrame\n",
    "import pandas as pd\n",
    "import matplotlib.pyplot as plt\n",
    "import numpy as np\n",
    "\n",
    "import tushare as ts\n",
    "from WindPy import w\n",
    "w.start();\n",
    "\n",
    "\n",
    "import fdm"
   ]
  },
  {
   "cell_type": "code",
   "execution_count": null,
   "metadata": {},
   "outputs": [],
   "source": [
    "pro = ts.pro_api()"
   ]
  },
  {
   "cell_type": "code",
   "execution_count": null,
   "metadata": {},
   "outputs": [],
   "source": [
    "client = MongoClient(\"192.168.56.1\",27017)"
   ]
  },
  {
   "cell_type": "code",
   "execution_count": null,
   "metadata": {},
   "outputs": [],
   "source": [
    "tushare = fdm.Tushare(client)\n",
    "db = tushare.daily_basic()"
   ]
  },
  {
   "cell_type": "code",
   "execution_count": null,
   "metadata": {},
   "outputs": [],
   "source": []
  },
  {
   "cell_type": "code",
   "execution_count": null,
   "metadata": {},
   "outputs": [],
   "source": []
  },
  {
   "cell_type": "code",
   "execution_count": null,
   "metadata": {},
   "outputs": [],
   "source": [
    "MSCI_CN = {'CNY': '302400L.MI',\n",
    "           'USD': '302400.MI'}\n",
    "data = w.wsd(\"302400L.MI\", \"close\", \"1999-12-20\", \"2019-08-26\", \"\",usedf=True)[1]\n",
    "data.sort_index(inplace = True)\n",
    "data.to_json('msci_china.bz2')"
   ]
  },
  {
   "cell_type": "code",
   "execution_count": null,
   "metadata": {},
   "outputs": [],
   "source": [
    "data = w.wsd(\"000300.SH\", \"close\", \"1999-12-20\", \"2019-08-26\", \"\",usedf=True)[1]\n",
    "data.sort_index(inplace = True)\n",
    "data.to_json('hs300.bz2')"
   ]
  },
  {
   "cell_type": "code",
   "execution_count": null,
   "metadata": {},
   "outputs": [],
   "source": [
    "index = pd.read_json('msci_china.bz2').sort_index().dropna()\n",
    "index_ror = index.pct_change()"
   ]
  },
  {
   "cell_type": "code",
   "execution_count": null,
   "metadata": {},
   "outputs": [],
   "source": [
    "index = pd.read_json('hs300.bz2').sort_index().dropna()\n",
    "index_ror = index.pct_change()"
   ]
  },
  {
   "cell_type": "code",
   "execution_count": null,
   "metadata": {},
   "outputs": [],
   "source": [
    "clean = fdm.CleanData(client)\n",
    "cdb = clean.pricing()\n",
    "\n",
    "tdb = fdm.TempDB(client)\n",
    "actp = tdb['actPrice']\n",
    "\n",
    "# Build active price vs CSI300\n",
    "def actprice(code):\n",
    "    start_date = datetime(2002,1,4)\n",
    "    close = cdb.query({'code':code,'date':{'$gt':start_date}},['code','date','close'])\n",
    "    if not close.empty:\n",
    "        close.set_index(['date'],inplace = True)\n",
    "        close = close.sort_index().copy()\n",
    "        close['close'] = close['close'].pct_change()-index_ror['CLOSE']\n",
    "        close.iat[0,1] = 0\n",
    "        close['act_price'] = np.cumprod(close['close']+1)\n",
    "        close.rename(columns={'close':'act_ror'},inplace=True)\n",
    "        close.reset_index(inplace=True)\n",
    "        return close\n",
    "    else:\n",
    "        return DataFrame\n",
    "\n",
    "actp.drop()\n",
    "codes = cdb.stock_codes()\n",
    "for code in codes:\n",
    "    df = actprice(code)\n",
    "    actp.insert_many(df)\n",
    "\n"
   ]
  },
  {
   "cell_type": "code",
   "execution_count": 174,
   "metadata": {},
   "outputs": [
    {
     "data": {
      "text/plain": [
       "0"
      ]
     },
     "execution_count": 174,
     "metadata": {},
     "output_type": "execute_result"
    }
   ],
   "source": [
    "actp.create_indexs(['date','code'])"
   ]
  },
  {
   "cell_type": "code",
   "execution_count": 177,
   "metadata": {},
   "outputs": [
    {
     "name": "stdout",
     "output_type": "stream",
     "text": [
      "000001.SZ\n",
      "4121 records inserted into tempDB.mmRatio\n"
     ]
    }
   ],
   "source": [
    "tdb = fdm.TempDB(client)\n",
    "actp = tdb['actPrice']\n",
    "mratio = tdb['mmRatio']\n",
    "\n",
    "def maxmin_ratio(ts):\n",
    "    maxv = np.max(ts)\n",
    "    minv = np.min(ts)\n",
    "    pt = ts[-1]\n",
    "    return (minv-pt)/(minv-maxv)\n",
    "\n",
    "#codes = actp.distinct('code')\n",
    "for code in codes[:1]:\n",
    "    print(code)\n",
    "    data = actp.query({'code':code})\n",
    "    data.set_index('date',inplace=True)\n",
    "    data.sort_index(inplace=True)\n",
    "\n",
    "    periods = [3,6,9,12,24,36]\n",
    "    for n in periods:\n",
    "        data['mm_ratio_'+str(n)] = data['act_price'].sort_index(ascending = False).rolling(20*n).apply(maxmin_ratio, raw=True)\n",
    "    \n",
    "    data.reset_index(inplace=True)\n",
    "    mratio.insert_many(data)"
   ]
  },
  {
   "cell_type": "code",
   "execution_count": 176,
   "metadata": {},
   "outputs": [
    {
     "data": {
      "text/plain": [
       "['000001.SZ']"
      ]
     },
     "execution_count": 176,
     "metadata": {},
     "output_type": "execute_result"
    }
   ],
   "source": [
    "codes[:1]"
   ]
  },
  {
   "cell_type": "code",
   "execution_count": 173,
   "metadata": {},
   "outputs": [],
   "source": [
    "data = actp.query({'code':'000001.SZ'})\n",
    "data.set_index('date',inplace=True)\n",
    "data.sort_index(inplace=True)"
   ]
  },
  {
   "cell_type": "code",
   "execution_count": null,
   "metadata": {},
   "outputs": [],
   "source": [
    "['CSI','SSE','SZSE','SW']\n",
    "indexes = pro.index_basic(market='SW')\n",
    "indexes.head()"
   ]
  }
 ],
 "metadata": {
  "kernelspec": {
   "display_name": "Python [conda env:quant]",
   "language": "python",
   "name": "conda-env-quant-py"
  },
  "language_info": {
   "codemirror_mode": {
    "name": "ipython",
    "version": 3
   },
   "file_extension": ".py",
   "mimetype": "text/x-python",
   "name": "python",
   "nbconvert_exporter": "python",
   "pygments_lexer": "ipython3",
   "version": "3.7.3"
  }
 },
 "nbformat": 4,
 "nbformat_minor": 4
}
