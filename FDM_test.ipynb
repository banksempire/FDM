{
 "cells": [
  {
   "cell_type": "code",
   "execution_count": 20,
   "metadata": {},
   "outputs": [
    {
     "name": "stdout",
     "output_type": "stream",
     "text": [
      "Welcome to use Wind Quant API for Python (WindPy)!\n",
      "\n",
      "COPYRIGHT (C) 2017 WIND INFORMATION CO., LTD. ALL RIGHTS RESERVED.\n",
      "IN NO CIRCUMSTANCE SHALL WIND BE RESPONSIBLE FOR ANY DAMAGES OR LOSSES CAUSED BY USING WIND QUANT API FOR Python.\n"
     ]
    }
   ],
   "source": [
    "from datetime import datetime\n",
    "from datetime import timedelta\n",
    "\n",
    "from pymongo import MongoClient\n",
    "from pandas import DataFrame\n",
    "import pandas as pd\n",
    "\n",
    "import tushare as ts\n",
    "from WindPy import w\n",
    "w.start();\n",
    "\n",
    "\n",
    "import fdm"
   ]
  },
  {
   "cell_type": "code",
   "execution_count": 4,
   "metadata": {},
   "outputs": [],
   "source": [
    "\n",
    "pro = ts.pro_api()"
   ]
  },
  {
   "cell_type": "code",
   "execution_count": 5,
   "metadata": {},
   "outputs": [],
   "source": [
    "client = MongoClient(\"192.168.56.1\",27017)"
   ]
  },
  {
   "cell_type": "code",
   "execution_count": 9,
   "metadata": {},
   "outputs": [],
   "source": [
    "tushare = fdm.Tushare(client)\n",
    "db = tushare.daily_basic()"
   ]
  },
  {
   "cell_type": "code",
   "execution_count": 10,
   "metadata": {},
   "outputs": [],
   "source": [
    "clean = fdm.CleanData(client)\n",
    "cdb = clean.pricing()"
   ]
  },
  {
   "cell_type": "code",
   "execution_count": 8,
   "metadata": {},
   "outputs": [],
   "source": [
    "tdb = fdm.TempDB(client)\n",
    "actp = tdb['actPrice']"
   ]
  },
  {
   "cell_type": "code",
   "execution_count": 14,
   "metadata": {},
   "outputs": [],
   "source": [
    "codes = cdb.stock_codes()"
   ]
  },
  {
   "cell_type": "code",
   "execution_count": 29,
   "metadata": {},
   "outputs": [],
   "source": [
    "MSCI_CN = {'CNY': '302400L.MI',\n",
    "           'USD': '302400.MI'}\n",
    "data = w.wsd(\"302400L.MI\", \"close\", \"1999-12-20\", \"2019-08-26\", \"\",usedf=True)[1]\n",
    "data.sort_index(inplace = True)\n",
    "data.to_json('msci_china.bz2')"
   ]
  },
  {
   "cell_type": "code",
   "execution_count": 33,
   "metadata": {},
   "outputs": [],
   "source": [
    "data = pd.read_json('msci_china.bz2').sort_index()\n"
   ]
  },
  {
   "cell_type": "code",
   "execution_count": 36,
   "metadata": {},
   "outputs": [
    {
     "data": {
      "text/plain": [
       "<matplotlib.axes._subplots.AxesSubplot at 0xa91c5c0>"
      ]
     },
     "execution_count": 36,
     "metadata": {},
     "output_type": "execute_result"
    },
    {
     "data": {
      "image/png": "[encoded data removed]",
      "text/plain": [
       "<Figure size 432x288 with 1 Axes>"
      ]
     },
     "metadata": {
      "needs_background": "light"
     },
     "output_type": "display_data"
    }
   ],
   "source": [
    "data.plot()"
   ]
  },
  {
   "cell_type": "code",
   "execution_count": 102,
   "metadata": {},
   "outputs": [
    {
     "data": {
      "text/html": [
       "<div>\n",
       "<style scoped>\n",
       "    .dataframe tbody tr th:only-of-type {\n",
       "        vertical-align: middle;\n",
       "    }\n",
       "\n",
       "    .dataframe tbody tr th {\n",
       "        vertical-align: top;\n",
       "    }\n",
       "\n",
       "    .dataframe thead th {\n",
       "        text-align: right;\n",
       "    }\n",
       "</style>\n",
       "<table border=\"1\" class=\"dataframe\">\n",
       "  <thead>\n",
       "    <tr style=\"text-align: right;\">\n",
       "      <th></th>\n",
       "      <th>ts_code</th>\n",
       "      <th>name</th>\n",
       "      <th>market</th>\n",
       "      <th>publisher</th>\n",
       "      <th>category</th>\n",
       "      <th>base_date</th>\n",
       "      <th>base_point</th>\n",
       "      <th>list_date</th>\n",
       "    </tr>\n",
       "  </thead>\n",
       "  <tbody>\n",
       "    <tr>\n",
       "      <th>0</th>\n",
       "      <td>801001.SI</td>\n",
       "      <td>申万50</td>\n",
       "      <td>SW</td>\n",
       "      <td>申万研究</td>\n",
       "      <td>其他</td>\n",
       "      <td>19991230</td>\n",
       "      <td>1000.0</td>\n",
       "      <td>None</td>\n",
       "    </tr>\n",
       "    <tr>\n",
       "      <th>1</th>\n",
       "      <td>801002.SI</td>\n",
       "      <td>申万中小板</td>\n",
       "      <td>SW</td>\n",
       "      <td>申万研究</td>\n",
       "      <td>其他</td>\n",
       "      <td>20040705</td>\n",
       "      <td>1000.0</td>\n",
       "      <td>None</td>\n",
       "    </tr>\n",
       "    <tr>\n",
       "      <th>2</th>\n",
       "      <td>801003.SI</td>\n",
       "      <td>申万A股</td>\n",
       "      <td>SW</td>\n",
       "      <td>申万研究</td>\n",
       "      <td>其他</td>\n",
       "      <td>19991230</td>\n",
       "      <td>1000.0</td>\n",
       "      <td>None</td>\n",
       "    </tr>\n",
       "    <tr>\n",
       "      <th>3</th>\n",
       "      <td>801004.SI</td>\n",
       "      <td>申万股改指数</td>\n",
       "      <td>SW</td>\n",
       "      <td>申万研究</td>\n",
       "      <td>其他</td>\n",
       "      <td>20050815</td>\n",
       "      <td>1000.0</td>\n",
       "      <td>None</td>\n",
       "    </tr>\n",
       "    <tr>\n",
       "      <th>4</th>\n",
       "      <td>801005.SI</td>\n",
       "      <td>申万创业板</td>\n",
       "      <td>SW</td>\n",
       "      <td>申万研究</td>\n",
       "      <td>其他</td>\n",
       "      <td>20091105</td>\n",
       "      <td>1000.0</td>\n",
       "      <td>20091106</td>\n",
       "    </tr>\n",
       "  </tbody>\n",
       "</table>\n",
       "</div>"
      ],
      "text/plain": [
       "     ts_code    name market publisher category base_date  base_point list_date\n",
       "0  801001.SI    申万50     SW      申万研究       其他  19991230      1000.0      None\n",
       "1  801002.SI   申万中小板     SW      申万研究       其他  20040705      1000.0      None\n",
       "2  801003.SI    申万A股     SW      申万研究       其他  19991230      1000.0      None\n",
       "3  801004.SI  申万股改指数     SW      申万研究       其他  20050815      1000.0      None\n",
       "4  801005.SI   申万创业板     SW      申万研究       其他  20091105      1000.0  20091106"
      ]
     },
     "execution_count": 102,
     "metadata": {},
     "output_type": "execute_result"
    }
   ],
   "source": [
    "['CSI','SSE','SZSE','SW']\n",
    "indexes = pro.index_basic(market='SW')\n",
    "indexes.head()"
   ]
  }
 ],
 "metadata": {
  "kernelspec": {
   "display_name": "Python [conda env:quant]",
   "language": "python",
   "name": "conda-env-quant-py"
  },
  "language_info": {
   "codemirror_mode": {
    "name": "ipython",
    "version": 3
   },
   "file_extension": ".py",
   "mimetype": "text/x-python",
   "name": "python",
   "nbconvert_exporter": "python",
   "pygments_lexer": "ipython3",
   "version": "3.7.3"
  }
 },
 "nbformat": 4,
 "nbformat_minor": 4
}
