{
 "cells": [
  {
   "cell_type": "code",
   "execution_count": 2,
   "metadata": {},
   "outputs": [
    {
     "name": "stdout",
     "output_type": "stream",
     "text": [
      "  code       date             cdb\n",
      "0  abc 2019-03-31  abccdb20190331\n",
      "1  abc 2019-06-30  abccdb20190630\n",
      "2  abc 2019-09-30  abccdb20190930\n",
      "3  abc 2019-12-31  abccdb20191231\n",
      "4  abc 2020-06-30  abccdb20200630\n",
      "5  abc 2020-03-31  abccdb20200331\n",
      "6  abc 2020-09-30  abccdb20200930\n",
      "0:00:00.508500\n"
     ]
    }
   ],
   "source": [
    "from datetime import datetime\n",
    "\n",
    "from fdm.utils.client import client\n",
    "from fdm.utils.test import test_feeder_func, test_config, test_feeder_func_Q\n",
    "\n",
    "from fdm.datasources.metaclass.interface import DynColInterface\n",
    "\n",
    "client.drop_database('test')\n",
    "time = datetime.now()\n",
    "interface = DynColInterface(\n",
    "    client['test']['test'], test_feeder_func_Q, test_config['Test']['DBSetting'])\n",
    "\n",
    "interface.query('abc', fields=['cdb'], startdate=datetime(\n",
    "    2019, 1, 1), enddate=datetime(2019, 4, 1))\n",
    "\n",
    "interface.query('abc', fields=['cdb'], startdate=datetime(\n",
    "    2019, 6, 1), enddate=datetime(2019, 10, 1))\n",
    "\n",
    "interface.query('abc', fields=['cdb'], startdate=datetime(\n",
    "    2019, 1, 1), enddate=datetime(2020, 2, 1))\n",
    "\n",
    "interface.remove(['abc'], fields=['cdb'], startdate=datetime(\n",
    "    2019, 2, 1), enddate=datetime(2019, 4, 1))\n",
    "\n",
    "interface.query('abc', fields=['cdb'], startdate=datetime(\n",
    "    2019, 1, 1), enddate=datetime(2020, 12, 1))\n",
    "\n",
    "print(interface.query('abc', fields=['cdb'], startdate=datetime(\n",
    "    2019, 1, 1), enddate=datetime(2020, 12, 1)))\n",
    "\n",
    "\n",
    "print(datetime.now()-time)\n",
    "client.close()"
   ]
  },
  {
   "cell_type": "code",
   "execution_count": 8,
   "metadata": {},
   "outputs": [],
   "source": [
    "import fdm\n",
    "from datetime import datetime"
   ]
  },
  {
   "cell_type": "code",
   "execution_count": 7,
   "metadata": {},
   "outputs": [],
   "source": [
    "edb = fdm.Wind().edb()"
   ]
  },
  {
   "cell_type": "code",
   "execution_count": 10,
   "metadata": {},
   "outputs": [
    {
     "data": {
      "text/html": [
       "<div>\n",
       "<style scoped>\n",
       "    .dataframe tbody tr th:only-of-type {\n",
       "        vertical-align: middle;\n",
       "    }\n",
       "\n",
       "    .dataframe tbody tr th {\n",
       "        vertical-align: top;\n",
       "    }\n",
       "\n",
       "    .dataframe thead th {\n",
       "        text-align: right;\n",
       "    }\n",
       "</style>\n",
       "<table border=\"1\" class=\"dataframe\">\n",
       "  <thead>\n",
       "    <tr style=\"text-align: right;\">\n",
       "      <th></th>\n",
       "      <th>code</th>\n",
       "      <th>date</th>\n",
       "      <th>value</th>\n",
       "    </tr>\n",
       "  </thead>\n",
       "  <tbody>\n",
       "    <tr>\n",
       "      <th>0</th>\n",
       "      <td>M5567876</td>\n",
       "      <td>2019-03-31</td>\n",
       "      <td>213432.8</td>\n",
       "    </tr>\n",
       "    <tr>\n",
       "      <th>1</th>\n",
       "      <td>M5567876</td>\n",
       "      <td>2019-06-30</td>\n",
       "      <td>237500.3</td>\n",
       "    </tr>\n",
       "    <tr>\n",
       "      <th>2</th>\n",
       "      <td>M5567876</td>\n",
       "      <td>2019-09-30</td>\n",
       "      <td>246865.1</td>\n",
       "    </tr>\n",
       "  </tbody>\n",
       "</table>\n",
       "</div>"
      ],
      "text/plain": [
       "       code       date     value\n",
       "0  M5567876 2019-03-31  213432.8\n",
       "1  M5567876 2019-06-30  237500.3\n",
       "2  M5567876 2019-09-30  246865.1"
      ]
     },
     "execution_count": 10,
     "metadata": {},
     "output_type": "execute_result"
    }
   ],
   "source": [
    "edb.query('M5567876', startdate = datetime(2019,1,1), enddate=datetime(2019,12,31))"
   ]
  }
 ],
 "metadata": {
  "kernelspec": {
   "display_name": "Python [conda env:quant]",
   "language": "python",
   "name": "conda-env-quant-py"
  },
  "language_info": {
   "codemirror_mode": {
    "name": "ipython",
    "version": 3
   },
   "file_extension": ".py",
   "mimetype": "text/x-python",
   "name": "python",
   "nbconvert_exporter": "python",
   "pygments_lexer": "ipython3",
   "version": "3.7.5"
  }
 },
 "nbformat": 4,
 "nbformat_minor": 4
}
