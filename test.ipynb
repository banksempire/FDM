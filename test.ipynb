{
 "cells": [
  {
   "cell_type": "code",
   "execution_count": 1,
   "metadata": {},
   "outputs": [],
   "source": [
    "import fdm\n",
    "from datetime import datetime\n",
    "\n",
    "from WindPy import w\n",
    "\n",
    "import pandas as pd\n",
    "from pandas import DataFrame\n",
    "#w.start()\n",
    "\n"
   ]
  },
  {
   "cell_type": "code",
   "execution_count": null,
   "metadata": {},
   "outputs": [
    {
     "name": "stdout",
     "output_type": "stream",
     "text": [
      "Welcome to use Wind Quant API for Python (WindPy)!\n",
      "\n",
      "COPYRIGHT (C) 2017 WIND INFORMATION CO., LTD. ALL RIGHTS RESERVED.\n",
      "IN NO CIRCUMSTANCE SHALL WIND BE RESPONSIBLE FOR ANY DAMAGES OR LOSSES CAUSED BY USING WIND QUANT API FOR Python.\n"
     ]
    }
   ],
   "source": [
    "codes = '000001.SZ,000002.SZ,000004.SZ,000005.SZ,000006.SZ,000007.SZ,000008.SZ,000009.SZ,000010.SZ,000011.SZ'.split(\n",
    "    ',')\n",
    "wsd = fdm.Wind().wsd()\n",
    "time = datetime.now()\n",
    "data = wsd.query(codes, fields='close', startdate=datetime(\n",
    "    2018, 1, 1), enddate=datetime(2019, 4, 1))\n",
    "data"
   ]
  },
  {
   "cell_type": "code",
   "execution_count": 2,
   "metadata": {
    "collapsed": true,
    "jupyter": {
     "outputs_hidden": true
    }
   },
   "outputs": [
    {
     "name": "stdout",
     "output_type": "stream",
     "text": [
      "Total 0 data points need to be downloaded.\n",
      "Total 40 data points need to be downloaded.\n",
      "Date: 20190913 downloaded.\n",
      "Date: 20190916 downloaded.\n",
      "Function downloader args ('20190917', <tushare.pro.client.DataApi object at 0x0000000008BFD0C8>) kwargs {}, retry attempt: 1\n",
      "Date: 20190917 downloaded.\n",
      "Date: 20190918 downloaded.\n",
      "Date: 20190919 downloaded.\n",
      "Date: 20190920 downloaded.\n",
      "Date: 20190923 downloaded.\n",
      "Date: 20190924 downloaded.\n",
      "Date: 20190925 downloaded.\n",
      "Date: 20190926 downloaded.\n",
      "Date: 20190927 downloaded.\n",
      "Date: 20190930 downloaded.\n",
      "Date: 20191001 downloaded.\n",
      "Date: 20191002 downloaded.\n",
      "Date: 20191003 downloaded.\n",
      "Date: 20191004 downloaded.\n",
      "Date: 20191007 downloaded.\n",
      "Date: 20191008 downloaded.\n",
      "Date: 20191009 downloaded.\n",
      "Date: 20191010 downloaded.\n",
      "Date: 20191011 downloaded.\n",
      "Date: 20191014 downloaded.\n",
      "Date: 20191015 downloaded.\n",
      "Date: 20191016 downloaded.\n",
      "Date: 20191017 downloaded.\n",
      "Date: 20191018 downloaded.\n",
      "Date: 20191021 downloaded.\n",
      "Date: 20191022 downloaded.\n",
      "Date: 20191023 downloaded.\n",
      "Date: 20191024 downloaded.\n",
      "Date: 20191025 downloaded.\n",
      "Date: 20191028 downloaded.\n",
      "Function downloader args ('20191029', <tushare.pro.client.DataApi object at 0x0000000008BFD0C8>) kwargs {}, retry attempt: 1\n",
      "Date: 20191029 downloaded.\n",
      "Date: 20191030 downloaded.\n",
      "Date: 20191031 downloaded.\n",
      "Date: 20191101 downloaded.\n",
      "Date: 20191104 downloaded.\n",
      "Date: 20191105 downloaded.\n",
      "Date: 20191106 downloaded.\n",
      "Date: 20191107 downloaded.\n",
      "Total 40 data points need to be downloaded.\n",
      "Date: 20190913 downloaded.\n",
      "Date: 20190916 downloaded.\n",
      "Date: 20190917 downloaded.\n",
      "Date: 20190918 downloaded.\n",
      "Date: 20190919 downloaded.\n",
      "Date: 20190920 downloaded.\n",
      "Date: 20190923 downloaded.\n",
      "Date: 20190924 downloaded.\n",
      "Date: 20190925 downloaded.\n",
      "Date: 20190926 downloaded.\n",
      "Date: 20190927 downloaded.\n",
      "Date: 20190930 downloaded.\n",
      "Date: 20191001 downloaded.\n",
      "Date: 20191002 downloaded.\n",
      "Date: 20191003 downloaded.\n",
      "Date: 20191004 downloaded.\n",
      "Date: 20191007 downloaded.\n",
      "Date: 20191008 downloaded.\n",
      "Date: 20191009 downloaded.\n",
      "Date: 20191010 downloaded.\n",
      "Date: 20191011 downloaded.\n",
      "Date: 20191014 downloaded.\n",
      "Date: 20191015 downloaded.\n",
      "Date: 20191016 downloaded.\n",
      "Date: 20191017 downloaded.\n",
      "Date: 20191018 downloaded.\n",
      "Date: 20191021 downloaded.\n",
      "Date: 20191022 downloaded.\n",
      "Date: 20191023 downloaded.\n",
      "Date: 20191024 downloaded.\n",
      "Date: 20191025 downloaded.\n",
      "Date: 20191028 downloaded.\n",
      "Date: 20191029 downloaded.\n",
      "Date: 20191030 downloaded.\n",
      "Date: 20191031 downloaded.\n",
      "Date: 20191101 downloaded.\n",
      "Date: 20191104 downloaded.\n",
      "Date: 20191105 downloaded.\n",
      "Date: 20191106 downloaded.\n",
      "Date: 20191107 downloaded.\n"
     ]
    }
   ],
   "source": [
    "fdm.utils.update_all()"
   ]
  }
 ],
 "metadata": {
  "kernelspec": {
   "display_name": "Python [conda env:quant]",
   "language": "python",
   "name": "conda-env-quant-py"
  },
  "language_info": {
   "codemirror_mode": {
    "name": "ipython",
    "version": 3
   },
   "file_extension": ".py",
   "mimetype": "text/x-python",
   "name": "python",
   "nbconvert_exporter": "python",
   "pygments_lexer": "ipython3",
   "version": "3.7.5"
  }
 },
 "nbformat": 4,
 "nbformat_minor": 4
}
