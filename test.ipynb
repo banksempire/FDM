{
 "cells": [
  {
   "cell_type": "code",
   "execution_count": 2,
   "metadata": {},
   "outputs": [
    {
     "name": "stdout",
     "output_type": "stream",
     "text": [
      "  code       date             cdb\n",
      "0  abc 2019-03-31  abccdb20190331\n",
      "1  abc 2019-06-30  abccdb20190630\n",
      "2  abc 2019-09-30  abccdb20190930\n",
      "3  abc 2019-12-31  abccdb20191231\n",
      "4  abc 2020-06-30  abccdb20200630\n",
      "5  abc 2020-03-31  abccdb20200331\n",
      "6  abc 2020-09-30  abccdb20200930\n",
      "0:00:00.508500\n"
     ]
    }
   ],
   "source": [
    "from datetime import datetime\n",
    "\n",
    "from fdm.utils.client import client\n",
    "from fdm.utils.test import test_feeder_func, test_config, test_feeder_func_Q\n",
    "\n",
    "from fdm.datasources.metaclass.interface import DynColInterface\n",
    "\n",
    "client.drop_database('test')\n",
    "time = datetime.now()\n",
    "interface = DynColInterface(\n",
    "    client['test']['test'], test_feeder_func_Q, test_config['Test']['DBSetting'])\n",
    "\n",
    "interface.query('abc', fields=['cdb'], startdate=datetime(\n",
    "    2019, 1, 1), enddate=datetime(2019, 4, 1))\n",
    "\n",
    "interface.query('abc', fields=['cdb'], startdate=datetime(\n",
    "    2019, 6, 1), enddate=datetime(2019, 10, 1))\n",
    "\n",
    "interface.query('abc', fields=['cdb'], startdate=datetime(\n",
    "    2019, 1, 1), enddate=datetime(2020, 2, 1))\n",
    "\n",
    "interface.remove(['abc'], fields=['cdb'], startdate=datetime(\n",
    "    2019, 2, 1), enddate=datetime(2019, 4, 1))\n",
    "\n",
    "interface.query('abc', fields=['cdb'], startdate=datetime(\n",
    "    2019, 1, 1), enddate=datetime(2020, 12, 1))\n",
    "\n",
    "print(interface.query('abc', fields=['cdb'], startdate=datetime(\n",
    "    2019, 1, 1), enddate=datetime(2020, 12, 1)))\n",
    "\n",
    "\n",
    "print(datetime.now()-time)\n",
    "client.close()"
   ]
  },
  {
   "cell_type": "code",
   "execution_count": 1,
   "metadata": {},
   "outputs": [],
   "source": [
    "import fdm\n",
    "from datetime import datetime"
   ]
  },
  {
   "cell_type": "code",
   "execution_count": 7,
   "metadata": {},
   "outputs": [],
   "source": [
    "edb = fdm.Wind().edb()"
   ]
  },
  {
   "cell_type": "code",
   "execution_count": 10,
   "metadata": {},
   "outputs": [
    {
     "data": {
      "text/html": [
       "<div>\n",
       "<style scoped>\n",
       "    .dataframe tbody tr th:only-of-type {\n",
       "        vertical-align: middle;\n",
       "    }\n",
       "\n",
       "    .dataframe tbody tr th {\n",
       "        vertical-align: top;\n",
       "    }\n",
       "\n",
       "    .dataframe thead th {\n",
       "        text-align: right;\n",
       "    }\n",
       "</style>\n",
       "<table border=\"1\" class=\"dataframe\">\n",
       "  <thead>\n",
       "    <tr style=\"text-align: right;\">\n",
       "      <th></th>\n",
       "      <th>code</th>\n",
       "      <th>date</th>\n",
       "      <th>value</th>\n",
       "    </tr>\n",
       "  </thead>\n",
       "  <tbody>\n",
       "    <tr>\n",
       "      <th>0</th>\n",
       "      <td>M5567876</td>\n",
       "      <td>2019-03-31</td>\n",
       "      <td>213432.8</td>\n",
       "    </tr>\n",
       "    <tr>\n",
       "      <th>1</th>\n",
       "      <td>M5567876</td>\n",
       "      <td>2019-06-30</td>\n",
       "      <td>237500.3</td>\n",
       "    </tr>\n",
       "    <tr>\n",
       "      <th>2</th>\n",
       "      <td>M5567876</td>\n",
       "      <td>2019-09-30</td>\n",
       "      <td>246865.1</td>\n",
       "    </tr>\n",
       "  </tbody>\n",
       "</table>\n",
       "</div>"
      ],
      "text/plain": [
       "       code       date     value\n",
       "0  M5567876 2019-03-31  213432.8\n",
       "1  M5567876 2019-06-30  237500.3\n",
       "2  M5567876 2019-09-30  246865.1"
      ]
     },
     "execution_count": 10,
     "metadata": {},
     "output_type": "execute_result"
    }
   ],
   "source": [
    "edb.query('M5567876', startdate = datetime(2019,1,1), enddate=datetime(2019,12,31))"
   ]
  },
  {
   "cell_type": "code",
   "execution_count": 1,
   "metadata": {},
   "outputs": [
    {
     "name": "stderr",
     "output_type": "stream",
     "text": [
      "C:\\Users\\langford\\AppData\\Local\\Continuum\\miniconda3\\envs\\quant\\lib\\site-packages\\ipykernel\\parentpoller.py:116: UserWarning: Parent poll failed.  If the frontend dies,\n",
      "                the kernel may be left running.  Please let us know\n",
      "                about your system (bitness, Python, etc.) at\n",
      "                ipython-dev@scipy.org\n",
      "  ipython-dev@scipy.org\"\"\")\n"
     ]
    }
   ],
   "source": [
    "import fdm\n",
    "from datetime import datetime\n",
    "\n",
    "wsd = fdm.Wind().wsd()"
   ]
  },
  {
   "cell_type": "code",
   "execution_count": 2,
   "metadata": {},
   "outputs": [
    {
     "name": "stdout",
     "output_type": "stream",
     "text": [
      "Welcome to use Wind Quant API for Python (WindPy)!\n",
      "\n",
      "COPYRIGHT (C) 2017 WIND INFORMATION CO., LTD. ALL RIGHTS RESERVED.\n",
      "IN NO CIRCUMSTANCE SHALL WIND BE RESPONSIBLE FOR ANY DAMAGES OR LOSSES CAUSED BY USING WIND QUANT API FOR Python.\n"
     ]
    },
    {
     "data": {
      "text/html": [
       "<div>\n",
       "<style scoped>\n",
       "    .dataframe tbody tr th:only-of-type {\n",
       "        vertical-align: middle;\n",
       "    }\n",
       "\n",
       "    .dataframe tbody tr th {\n",
       "        vertical-align: top;\n",
       "    }\n",
       "\n",
       "    .dataframe thead th {\n",
       "        text-align: right;\n",
       "    }\n",
       "</style>\n",
       "<table border=\"1\" class=\"dataframe\">\n",
       "  <thead>\n",
       "    <tr style=\"text-align: right;\">\n",
       "      <th></th>\n",
       "      <th>code</th>\n",
       "      <th>date</th>\n",
       "      <th>close</th>\n",
       "    </tr>\n",
       "  </thead>\n",
       "  <tbody>\n",
       "    <tr>\n",
       "      <th>0</th>\n",
       "      <td>000002.SZ</td>\n",
       "      <td>2019-01-02</td>\n",
       "      <td>23.90</td>\n",
       "    </tr>\n",
       "    <tr>\n",
       "      <th>1</th>\n",
       "      <td>000002.SZ</td>\n",
       "      <td>2019-01-03</td>\n",
       "      <td>24.07</td>\n",
       "    </tr>\n",
       "    <tr>\n",
       "      <th>2</th>\n",
       "      <td>000002.SZ</td>\n",
       "      <td>2019-01-04</td>\n",
       "      <td>24.93</td>\n",
       "    </tr>\n",
       "    <tr>\n",
       "      <th>3</th>\n",
       "      <td>000002.SZ</td>\n",
       "      <td>2019-02-13</td>\n",
       "      <td>27.77</td>\n",
       "    </tr>\n",
       "    <tr>\n",
       "      <th>4</th>\n",
       "      <td>000002.SZ</td>\n",
       "      <td>2019-01-08</td>\n",
       "      <td>25.00</td>\n",
       "    </tr>\n",
       "    <tr>\n",
       "      <th>...</th>\n",
       "      <td>...</td>\n",
       "      <td>...</td>\n",
       "      <td>...</td>\n",
       "    </tr>\n",
       "    <tr>\n",
       "      <th>200</th>\n",
       "      <td>000002.SZ</td>\n",
       "      <td>2019-03-05</td>\n",
       "      <td>29.94</td>\n",
       "    </tr>\n",
       "    <tr>\n",
       "      <th>201</th>\n",
       "      <td>000002.SZ</td>\n",
       "      <td>2019-03-01</td>\n",
       "      <td>28.54</td>\n",
       "    </tr>\n",
       "    <tr>\n",
       "      <th>202</th>\n",
       "      <td>000002.SZ</td>\n",
       "      <td>2019-03-04</td>\n",
       "      <td>29.70</td>\n",
       "    </tr>\n",
       "    <tr>\n",
       "      <th>203</th>\n",
       "      <td>000002.SZ</td>\n",
       "      <td>2019-03-06</td>\n",
       "      <td>29.48</td>\n",
       "    </tr>\n",
       "    <tr>\n",
       "      <th>204</th>\n",
       "      <td>000002.SZ</td>\n",
       "      <td>2019-03-07</td>\n",
       "      <td>28.57</td>\n",
       "    </tr>\n",
       "  </tbody>\n",
       "</table>\n",
       "<p>205 rows × 3 columns</p>\n",
       "</div>"
      ],
      "text/plain": [
       "          code       date  close\n",
       "0    000002.SZ 2019-01-02  23.90\n",
       "1    000002.SZ 2019-01-03  24.07\n",
       "2    000002.SZ 2019-01-04  24.93\n",
       "3    000002.SZ 2019-02-13  27.77\n",
       "4    000002.SZ 2019-01-08  25.00\n",
       "..         ...        ...    ...\n",
       "200  000002.SZ 2019-03-05  29.94\n",
       "201  000002.SZ 2019-03-01  28.54\n",
       "202  000002.SZ 2019-03-04  29.70\n",
       "203  000002.SZ 2019-03-06  29.48\n",
       "204  000002.SZ 2019-03-07  28.57\n",
       "\n",
       "[205 rows x 3 columns]"
      ]
     },
     "execution_count": 2,
     "metadata": {},
     "output_type": "execute_result"
    }
   ],
   "source": [
    "wsd.query('000002.SZ', 'close', datetime(2019,1,1), datetime.now())"
   ]
  }
 ],
 "metadata": {
  "kernelspec": {
   "display_name": "Python [conda env:quant]",
   "language": "python",
   "name": "conda-env-quant-py"
  },
  "language_info": {
   "codemirror_mode": {
    "name": "ipython",
    "version": 3
   },
   "file_extension": ".py",
   "mimetype": "text/x-python",
   "name": "python",
   "nbconvert_exporter": "python",
   "pygments_lexer": "ipython3",
   "version": "3.7.5"
  }
 },
 "nbformat": 4,
 "nbformat_minor": 4
}
